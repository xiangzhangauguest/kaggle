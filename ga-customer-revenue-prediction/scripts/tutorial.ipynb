{
 "cells": [
  {
   "cell_type": "code",
   "execution_count": 3,
   "metadata": {
    "collapsed": true
   },
   "outputs": [
    {
     "data": {
      "text/html": [
       "<script type=\"text/javascript\">window.PlotlyConfig = {MathJaxConfig: 'local'};</script><script type=\"text/javascript\">if (window.MathJax) {MathJax.Hub.Config({SVG: {font: \"STIX-Web\"}});}</script><script>requirejs.config({paths: { 'plotly': ['https://cdn.plot.ly/plotly-latest.min']},});if(!window._Plotly) {require(['plotly'],function(plotly) {window._Plotly=plotly;});}</script>"
      ],
      "text/plain": [
       "<script type=\"text/javascript\">window.PlotlyConfig = {MathJaxConfig: 'local'};</script><script type=\"text/javascript\">if (window.MathJax) {MathJax.Hub.Config({SVG: {font: \"STIX-Web\"}});}</script><script>requirejs.config({paths: { 'plotly': ['https://cdn.plot.ly/plotly-latest.min']},});if(!window._Plotly) {require(['plotly'],function(plotly) {window._Plotly=plotly;});}</script>"
      ]
     },
     "execution_count": 0,
     "metadata": {},
     "output_type": "execute_result"
    }
   ],
   "source": [
    "import os\n",
    "import json\n",
    "import numpy as np\n",
    "import pandas as pd\n",
    "from pandas.io.json import json_normalize\n",
    "import matplotlib.pyplot as plt\n",
    "import seaborn as sns\n",
    "color = sns.color_palette()\n",
    "\n",
    "%matplotlib inline\n",
    "\n",
    "from plotly import tools\n",
    "import plotly.offline as py\n",
    "py.init_notebook_mode(connected=True)\n",
    "import plotly.graph_objs as go\n",
    "\n",
    "from sklearn import model_selection, preprocessing, metrics\n",
    "# import lightgbm as lgb\n",
    "\n",
    "pd.options.mode.chained_assignment = None\n",
    "pd.options.display.max_columns = 999"
   ]
  },
  {
   "cell_type": "code",
   "execution_count": 6,
   "metadata": {},
   "outputs": [],
   "source": [
    "def load_df(csv_path='../input/train.csv', nrows=None):\n",
    "    JSON_COLUMNS = ['device', 'geoNetwork', 'totals', 'trafficSource']\n",
    "    \n",
    "    df = pd.read_csv(csv_path, \n",
    "                     converters={column: json.loads for column in JSON_COLUMNS}, \n",
    "                     dtype={'fullVisitorId': 'str'}, # Important!!\n",
    "                     nrows=nrows)\n",
    "    \n",
    "    for column in JSON_COLUMNS:\n",
    "        column_as_df = json_normalize(df[column])\n",
    "        column_as_df.columns = [\"{0}.{1}\".format(column, subcolumn) for subcolumn in column_as_df.columns]\n",
    "        df = df.drop(column, axis=1).merge(column_as_df, right_index=True, left_index=True)\n",
    "    print(\"Loaded {0}. Shape: {1}\".format(os.path.basename(csv_path), df.shape))\n",
    "    return df"
   ]
  },
  {
   "cell_type": "code",
   "execution_count": 7,
   "metadata": {},
   "outputs": [
    {
     "name": "stdout",
     "output_type": "stream",
     "text": [
      "Loaded train_v2.csv.head. Shape: (999, 59)\n"
     ]
    },
    {
     "name": "stdout",
     "output_type": "stream",
     "text": [
      "Loaded test_v2.csv.head. Shape: (999, 59)\nCPU times: user 1.26 s, sys: 203 ms, total: 1.46 s\nWall time: 1.8 s\n"
     ]
    }
   ],
   "source": [
    "%%time\n",
    "train_df = load_df(\"/Users/didi/Documents/zx/Github/kaggle/ga-customer-revenue-prediction/input/train_v2.csv.head\")\n",
    "test_df = load_df(\"/Users/didi/Documents/zx/Github/kaggle/ga-customer-revenue-prediction/input/test_v2.csv.head\")"
   ]
  },
  {
   "cell_type": "code",
   "execution_count": 9,
   "metadata": {},
   "outputs": [
    {
     "data": {
      "image/png": "[encoded data removed]",
      "text/plain": [
       "<Figure size 576x432 with 1 Axes>"
      ]
     },
     "metadata": {},
     "output_type": "display_data"
    }
   ],
   "source": [
    "train_df[\"totals.transactionRevenue\"] = train_df[\"totals.transactionRevenue\"].astype('float')\n",
    "gdf = train_df.groupby(\"fullVisitorId\")[\"totals.transactionRevenue\"].sum().reset_index()\n",
    "\n",
    "plt.figure(figsize=(8,6))\n",
    "plt.scatter(range(gdf.shape[0]), np.sort(np.log1p(gdf[\"totals.transactionRevenue\"].values)))\n",
    "plt.xlabel('index', fontsize=12)\n",
    "plt.ylabel('TransactionRevenue', fontsize=12)\n",
    "plt.show()"
   ]
  },
  {
   "cell_type": "code",
   "execution_count": 10,
   "metadata": {},
   "outputs": [
    {
     "name": "stdout",
     "output_type": "stream",
     "text": [
      "('Number of instances in train set with non-zero revenue : ', 24, ' and ratio is : ', 0)\n('Number of unique customers with non-zero revenue : ', 24, 'and the ratio is : ', 0)\n"
     ]
    }
   ],
   "source": [
    "nzi = pd.notnull(train_df[\"totals.transactionRevenue\"]).sum()\n",
    "nzr = (gdf[\"totals.transactionRevenue\"]>0).sum()\n",
    "print(\"Number of instances in train set with non-zero revenue : \", nzi, \" and ratio is : \", nzi / train_df.shape[0])\n",
    "print(\"Number of unique customers with non-zero revenue : \", nzr, \"and the ratio is : \", nzr / gdf.shape[0])"
   ]
  },
  {
   "cell_type": "code",
   "execution_count": 11,
   "metadata": {},
   "outputs": [
    {
     "data": {
      "text/plain": [
       "['date',\n 'socialEngagementType',\n 'device.browserSize',\n 'device.browserVersion',\n 'device.flashVersion',\n 'device.language',\n 'device.mobileDeviceBranding',\n 'device.mobileDeviceInfo',\n 'device.mobileDeviceMarketingName',\n 'device.mobileDeviceModel',\n 'device.mobileInputSelector',\n 'device.operatingSystemVersion',\n 'device.screenColors',\n 'device.screenResolution',\n 'geoNetwork.cityId',\n 'geoNetwork.latitude',\n 'geoNetwork.longitude',\n 'geoNetwork.networkLocation',\n 'totals.visits',\n 'trafficSource.adwordsClickInfo.criteriaParameters']"
      ]
     },
     "execution_count": 11,
     "metadata": {},
     "output_type": "execute_result"
    }
   ],
   "source": [
    "const_cols = [c for c in train_df.columns if train_df[c].nunique(dropna=False)==1 ]\n",
    "const_cols"
   ]
  },
  {
   "cell_type": "code",
   "execution_count": 12,
   "metadata": {},
   "outputs": [
    {
     "name": "stdout",
     "output_type": "stream",
     "text": [
      "This is the format of your plot grid:\n[ (1,1) x1,y1 ]  [ (1,2) x2,y2 ]  [ (1,3) x3,y3 ]\n[ (2,1) x4,y4 ]  [ (2,2) x5,y5 ]  [ (2,3) x6,y6 ]\n[ (3,1) x7,y7 ]  [ (3,2) x8,y8 ]  [ (3,3) x9,y9 ]\n\n"
     ]
    },
    {
     "data": {
      "text/html": [
       "<div id=\"0a89fe07-5196-434d-a2de-c04a530298ea\" style=\"height: 1200px; width: 1200px;\" class=\"plotly-graph-div\"></div><script type=\"text/javascript\">require([\"plotly\"], function(Plotly) { window.PLOTLYENV=window.PLOTLYENV || {};window.PLOTLYENV.BASE_URL=\"https://plot.ly\";Plotly.newPlot(\"0a89fe07-5196-434d-a2de-c04a530298ea\", [{\"showlegend\": false, \"orientation\": \"h\", \"yaxis\": \"y\", \"marker\": {\"color\": \"rgba(50, 171, 96, 0.6)\"}, \"xaxis\": \"x\", \"y\": [\"UC Browser\", \"Opera Mini\", \"Android Webview\", \"Samsung Internet\", \"Safari (in-app)\", \"Edge\", \"Internet Explorer\", \"Firefox\", \"Safari\", \"Chrome\"], \"x\": [3, 3, 4, 5, 10, 16, 28, 41, 148, 740], \"type\": \"bar\", \"uid\": \"855791d6-7e47-4889-881d-4126cbd3d317\"}, {\"showlegend\": false, \"orientation\": \"h\", \"yaxis\": \"y2\", \"marker\": {\"color\": \"rgba(50, 171, 96, 0.6)\"}, \"xaxis\": \"x2\", \"y\": [\"UC Browser\", \"Opera Mini\", \"Android Webview\", \"Samsung Internet\", \"Safari (in-app)\", \"Edge\", \"Internet Explorer\", \"Firefox\", \"Safari\", \"Chrome\"], \"x\": [0, 0, 0, 0, 0, 0, 1, 0, 1, 22], \"type\": \"bar\", \"uid\": \"5b2898ae-2044-462c-9633-ba25a6f9874e\"}, {\"showlegend\": false, \"orientation\": \"h\", \"yaxis\": \"y3\", \"marker\": {\"color\": \"rgba(50, 171, 96, 0.6)\"}, \"xaxis\": \"x3\", \"y\": [\"UC Browser\", \"Opera Mini\", \"Android Webview\", \"Samsung Internet\", \"Safari (in-app)\", \"Edge\", \"Internet Explorer\", \"Firefox\", \"Safari\", \"Chrome\"], \"x\": [null, null, null, null, null, null, 42000000.0, null, 57300000.0, 70732727.27272727], \"type\": \"bar\", \"uid\": \"7a64a96f-52cf-4cf1-9143-1053c227ae99\"}, {\"showlegend\": false, \"orientation\": \"h\", \"yaxis\": \"y4\", \"marker\": {\"color\": \"rgba(71, 58, 131, 0.8)\"}, \"xaxis\": \"x4\", \"y\": [\"tablet\", \"mobile\", \"desktop\"], \"x\": [26, 234, 739], \"type\": \"bar\", \"uid\": \"ac9a05fc-e5fc-4ca6-ae74-7e47f70d6f33\"}, {\"showlegend\": false, \"orientation\": \"h\", \"yaxis\": \"y5\", \"marker\": {\"color\": \"rgba(71, 58, 131, 0.8)\"}, \"xaxis\": \"x5\", \"y\": [\"tablet\", \"mobile\", \"desktop\"], \"x\": [1, 1, 22], \"type\": \"bar\", \"uid\": \"150159fc-ef61-43db-b296-0520ece46fe4\"}, {\"showlegend\": false, \"orientation\": \"h\", \"yaxis\": \"y6\", \"marker\": {\"color\": \"rgba(71, 58, 131, 0.8)\"}, \"xaxis\": \"x6\", \"y\": [\"tablet\", \"mobile\", \"desktop\"], \"x\": [42000000.0, 57300000.0, 70732727.27272727], \"type\": \"bar\", \"uid\": \"8e165911-458f-41e2-9e0b-ae1ec743b1e2\"}, {\"showlegend\": false, \"orientation\": \"h\", \"yaxis\": \"y7\", \"marker\": {\"color\": \"rgba(246, 78, 139, 0.6)\"}, \"xaxis\": \"x7\", \"y\": [\"Windows Phone\", \"(not set)\", \"Chrome OS\", \"Linux\", \"Android\", \"iOS\", \"Macintosh\", \"Windows\"], \"x\": [1, 2, 35, 41, 125, 128, 313, 354], \"type\": \"bar\", \"uid\": \"f38163f6-be56-4292-ace0-c0f4b546b35f\"}, {\"showlegend\": false, \"orientation\": \"h\", \"yaxis\": \"y8\", \"marker\": {\"color\": \"rgba(246, 78, 139, 0.6)\"}, \"xaxis\": \"x8\", \"y\": [\"Windows Phone\", \"(not set)\", \"Chrome OS\", \"Linux\", \"Android\", \"iOS\", \"Macintosh\", \"Windows\"], \"x\": [0, 0, 2, 0, 0, 1, 18, 3], \"type\": \"bar\", \"uid\": \"fffdd011-413d-4566-a91c-c0e2dbb2a20a\"}, {\"showlegend\": false, \"orientation\": \"h\", \"yaxis\": \"y9\", \"marker\": {\"color\": \"rgba(246, 78, 139, 0.6)\"}, \"xaxis\": \"x9\", \"y\": [\"Windows Phone\", \"(not set)\", \"Chrome OS\", \"Linux\", \"Android\", \"iOS\", \"Macintosh\", \"Windows\"], \"x\": [null, null, 35915000.0, null, null, 57300000.0, 31992222.222222224, 316810000.0], \"type\": \"bar\", \"uid\": \"e53f368c-fe38-49db-87c3-942658488cda\"}], {\"paper_bgcolor\": \"rgb(233,233,233)\", \"height\": 1200, \"yaxis2\": {\"domain\": [0.6933333333333334, 1.0], \"anchor\": \"x2\"}, \"yaxis3\": {\"domain\": [0.6933333333333334, 1.0], \"anchor\": \"x3\"}, \"yaxis4\": {\"domain\": [0.3466666666666667, 0.6533333333333333], \"anchor\": \"x4\"}, \"yaxis5\": {\"domain\": [0.3466666666666667, 0.6533333333333333], \"anchor\": \"x5\"}, \"yaxis6\": {\"domain\": [0.3466666666666667, 0.6533333333333333], \"anchor\": \"x6\"}, \"yaxis7\": {\"domain\": [0.0, 0.3066666666666667], \"anchor\": \"x7\"}, \"yaxis8\": {\"domain\": [0.0, 0.3066666666666667], \"anchor\": \"x8\"}, \"yaxis9\": {\"domain\": [0.0, 0.3066666666666667], \"anchor\": \"x9\"}, \"title\": \"Device Plots\", \"yaxis\": {\"domain\": [0.6933333333333334, 1.0], \"anchor\": \"x\"}, \"width\": 1200, \"xaxis\": {\"domain\": [0.0, 0.2888888888888889], \"anchor\": \"y\"}, \"annotations\": [{\"yanchor\": \"bottom\", \"xref\": \"paper\", \"xanchor\": \"center\", \"yref\": \"paper\", \"text\": \"Device Browser - Count\", \"y\": 1.0, \"x\": 0.14444444444444446, \"font\": {\"size\": 16}, \"showarrow\": false}, {\"yanchor\": \"bottom\", \"xref\": \"paper\", \"xanchor\": \"center\", \"yref\": \"paper\", \"text\": \"Device Browser - Non-zero Revenue Count\", \"y\": 1.0, \"x\": 0.5, \"font\": {\"size\": 16}, \"showarrow\": false}, {\"yanchor\": \"bottom\", \"xref\": \"paper\", \"xanchor\": \"center\", \"yref\": \"paper\", \"text\": \"Device Browser - Mean Revenue\", \"y\": 1.0, \"x\": 0.8555555555555556, \"font\": {\"size\": 16}, \"showarrow\": false}, {\"yanchor\": \"bottom\", \"xref\": \"paper\", \"xanchor\": \"center\", \"yref\": \"paper\", \"text\": \"Device Category - Count\", \"y\": 0.6533333333333333, \"x\": 0.14444444444444446, \"font\": {\"size\": 16}, \"showarrow\": false}, {\"yanchor\": \"bottom\", \"xref\": \"paper\", \"xanchor\": \"center\", \"yref\": \"paper\", \"text\": \"Device Category - Non-zero Revenue Count\", \"y\": 0.6533333333333333, \"x\": 0.5, \"font\": {\"size\": 16}, \"showarrow\": false}, {\"yanchor\": \"bottom\", \"xref\": \"paper\", \"xanchor\": \"center\", \"yref\": \"paper\", \"text\": \"Device Category - Mean Revenue\", \"y\": 0.6533333333333333, \"x\": 0.8555555555555556, \"font\": {\"size\": 16}, \"showarrow\": false}, {\"yanchor\": \"bottom\", \"xref\": \"paper\", \"xanchor\": \"center\", \"yref\": \"paper\", \"text\": \"Device OS - Count\", \"y\": 0.3066666666666667, \"x\": 0.14444444444444446, \"font\": {\"size\": 16}, \"showarrow\": false}, {\"yanchor\": \"bottom\", \"xref\": \"paper\", \"xanchor\": \"center\", \"yref\": \"paper\", \"text\": \"Device OS - Non-zero Revenue Count\", \"y\": 0.3066666666666667, \"x\": 0.5, \"font\": {\"size\": 16}, \"showarrow\": false}, {\"yanchor\": \"bottom\", \"xref\": \"paper\", \"xanchor\": \"center\", \"yref\": \"paper\", \"text\": \"Device OS - Mean Revenue\", \"y\": 0.3066666666666667, \"x\": 0.8555555555555556, \"font\": {\"size\": 16}, \"showarrow\": false}], \"xaxis9\": {\"domain\": [0.7111111111111111, 1.0], \"anchor\": \"y9\"}, \"xaxis8\": {\"domain\": [0.35555555555555557, 0.6444444444444445], \"anchor\": \"y8\"}, \"xaxis7\": {\"domain\": [0.0, 0.2888888888888889], \"anchor\": \"y7\"}, \"xaxis6\": {\"domain\": [0.7111111111111111, 1.0], \"anchor\": \"y6\"}, \"xaxis5\": {\"domain\": [0.35555555555555557, 0.6444444444444445], \"anchor\": \"y5\"}, \"xaxis4\": {\"domain\": [0.0, 0.2888888888888889], \"anchor\": \"y4\"}, \"xaxis3\": {\"domain\": [0.7111111111111111, 1.0], \"anchor\": \"y3\"}, \"xaxis2\": {\"domain\": [0.35555555555555557, 0.6444444444444445], \"anchor\": \"y2\"}}, {\"linkText\": \"Export to plot.ly\", \"showLink\": true})});</script>"
      ],
      "text/plain": [
       "<div id=\"0a89fe07-5196-434d-a2de-c04a530298ea\" style=\"height: 1200px; width: 1200px;\" class=\"plotly-graph-div\"></div><script type=\"text/javascript\">require([\"plotly\"], function(Plotly) { window.PLOTLYENV=window.PLOTLYENV || {};window.PLOTLYENV.BASE_URL=\"https://plot.ly\";Plotly.newPlot(\"0a89fe07-5196-434d-a2de-c04a530298ea\", [{\"showlegend\": false, \"orientation\": \"h\", \"yaxis\": \"y\", \"marker\": {\"color\": \"rgba(50, 171, 96, 0.6)\"}, \"xaxis\": \"x\", \"y\": [\"UC Browser\", \"Opera Mini\", \"Android Webview\", \"Samsung Internet\", \"Safari (in-app)\", \"Edge\", \"Internet Explorer\", \"Firefox\", \"Safari\", \"Chrome\"], \"x\": [3, 3, 4, 5, 10, 16, 28, 41, 148, 740], \"type\": \"bar\", \"uid\": \"855791d6-7e47-4889-881d-4126cbd3d317\"}, {\"showlegend\": false, \"orientation\": \"h\", \"yaxis\": \"y2\", \"marker\": {\"color\": \"rgba(50, 171, 96, 0.6)\"}, \"xaxis\": \"x2\", \"y\": [\"UC Browser\", \"Opera Mini\", \"Android Webview\", \"Samsung Internet\", \"Safari (in-app)\", \"Edge\", \"Internet Explorer\", \"Firefox\", \"Safari\", \"Chrome\"], \"x\": [0, 0, 0, 0, 0, 0, 1, 0, 1, 22], \"type\": \"bar\", \"uid\": \"5b2898ae-2044-462c-9633-ba25a6f9874e\"}, {\"showlegend\": false, \"orientation\": \"h\", \"yaxis\": \"y3\", \"marker\": {\"color\": \"rgba(50, 171, 96, 0.6)\"}, \"xaxis\": \"x3\", \"y\": [\"UC Browser\", \"Opera Mini\", \"Android Webview\", \"Samsung Internet\", \"Safari (in-app)\", \"Edge\", \"Internet Explorer\", \"Firefox\", \"Safari\", \"Chrome\"], \"x\": [null, null, null, null, null, null, 42000000.0, null, 57300000.0, 70732727.27272727], \"type\": \"bar\", \"uid\": \"7a64a96f-52cf-4cf1-9143-1053c227ae99\"}, {\"showlegend\": false, \"orientation\": \"h\", \"yaxis\": \"y4\", \"marker\": {\"color\": \"rgba(71, 58, 131, 0.8)\"}, \"xaxis\": \"x4\", \"y\": [\"tablet\", \"mobile\", \"desktop\"], \"x\": [26, 234, 739], \"type\": \"bar\", \"uid\": \"ac9a05fc-e5fc-4ca6-ae74-7e47f70d6f33\"}, {\"showlegend\": false, \"orientation\": \"h\", \"yaxis\": \"y5\", \"marker\": {\"color\": \"rgba(71, 58, 131, 0.8)\"}, \"xaxis\": \"x5\", \"y\": [\"tablet\", \"mobile\", \"desktop\"], \"x\": [1, 1, 22], \"type\": \"bar\", \"uid\": \"150159fc-ef61-43db-b296-0520ece46fe4\"}, {\"showlegend\": false, \"orientation\": \"h\", \"yaxis\": \"y6\", \"marker\": {\"color\": \"rgba(71, 58, 131, 0.8)\"}, \"xaxis\": \"x6\", \"y\": [\"tablet\", \"mobile\", \"desktop\"], \"x\": [42000000.0, 57300000.0, 70732727.27272727], \"type\": \"bar\", \"uid\": \"8e165911-458f-41e2-9e0b-ae1ec743b1e2\"}, {\"showlegend\": false, \"orientation\": \"h\", \"yaxis\": \"y7\", \"marker\": {\"color\": \"rgba(246, 78, 139, 0.6)\"}, \"xaxis\": \"x7\", \"y\": [\"Windows Phone\", \"(not set)\", \"Chrome OS\", \"Linux\", \"Android\", \"iOS\", \"Macintosh\", \"Windows\"], \"x\": [1, 2, 35, 41, 125, 128, 313, 354], \"type\": \"bar\", \"uid\": \"f38163f6-be56-4292-ace0-c0f4b546b35f\"}, {\"showlegend\": false, \"orientation\": \"h\", \"yaxis\": \"y8\", \"marker\": {\"color\": \"rgba(246, 78, 139, 0.6)\"}, \"xaxis\": \"x8\", \"y\": [\"Windows Phone\", \"(not set)\", \"Chrome OS\", \"Linux\", \"Android\", \"iOS\", \"Macintosh\", \"Windows\"], \"x\": [0, 0, 2, 0, 0, 1, 18, 3], \"type\": \"bar\", \"uid\": \"fffdd011-413d-4566-a91c-c0e2dbb2a20a\"}, {\"showlegend\": false, \"orientation\": \"h\", \"yaxis\": \"y9\", \"marker\": {\"color\": \"rgba(246, 78, 139, 0.6)\"}, \"xaxis\": \"x9\", \"y\": [\"Windows Phone\", \"(not set)\", \"Chrome OS\", \"Linux\", \"Android\", \"iOS\", \"Macintosh\", \"Windows\"], \"x\": [null, null, 35915000.0, null, null, 57300000.0, 31992222.222222224, 316810000.0], \"type\": \"bar\", \"uid\": \"e53f368c-fe38-49db-87c3-942658488cda\"}], {\"paper_bgcolor\": \"rgb(233,233,233)\", \"height\": 1200, \"yaxis2\": {\"domain\": [0.6933333333333334, 1.0], \"anchor\": \"x2\"}, \"yaxis3\": {\"domain\": [0.6933333333333334, 1.0], \"anchor\": \"x3\"}, \"yaxis4\": {\"domain\": [0.3466666666666667, 0.6533333333333333], \"anchor\": \"x4\"}, \"yaxis5\": {\"domain\": [0.3466666666666667, 0.6533333333333333], \"anchor\": \"x5\"}, \"yaxis6\": {\"domain\": [0.3466666666666667, 0.6533333333333333], \"anchor\": \"x6\"}, \"yaxis7\": {\"domain\": [0.0, 0.3066666666666667], \"anchor\": \"x7\"}, \"yaxis8\": {\"domain\": [0.0, 0.3066666666666667], \"anchor\": \"x8\"}, \"yaxis9\": {\"domain\": [0.0, 0.3066666666666667], \"anchor\": \"x9\"}, \"title\": \"Device Plots\", \"yaxis\": {\"domain\": [0.6933333333333334, 1.0], \"anchor\": \"x\"}, \"width\": 1200, \"xaxis\": {\"domain\": [0.0, 0.2888888888888889], \"anchor\": \"y\"}, \"annotations\": [{\"yanchor\": \"bottom\", \"xref\": \"paper\", \"xanchor\": \"center\", \"yref\": \"paper\", \"text\": \"Device Browser - Count\", \"y\": 1.0, \"x\": 0.14444444444444446, \"font\": {\"size\": 16}, \"showarrow\": false}, {\"yanchor\": \"bottom\", \"xref\": \"paper\", \"xanchor\": \"center\", \"yref\": \"paper\", \"text\": \"Device Browser - Non-zero Revenue Count\", \"y\": 1.0, \"x\": 0.5, \"font\": {\"size\": 16}, \"showarrow\": false}, {\"yanchor\": \"bottom\", \"xref\": \"paper\", \"xanchor\": \"center\", \"yref\": \"paper\", \"text\": \"Device Browser - Mean Revenue\", \"y\": 1.0, \"x\": 0.8555555555555556, \"font\": {\"size\": 16}, \"showarrow\": false}, {\"yanchor\": \"bottom\", \"xref\": \"paper\", \"xanchor\": \"center\", \"yref\": \"paper\", \"text\": \"Device Category - Count\", \"y\": 0.6533333333333333, \"x\": 0.14444444444444446, \"font\": {\"size\": 16}, \"showarrow\": false}, {\"yanchor\": \"bottom\", \"xref\": \"paper\", \"xanchor\": \"center\", \"yref\": \"paper\", \"text\": \"Device Category - Non-zero Revenue Count\", \"y\": 0.6533333333333333, \"x\": 0.5, \"font\": {\"size\": 16}, \"showarrow\": false}, {\"yanchor\": \"bottom\", \"xref\": \"paper\", \"xanchor\": \"center\", \"yref\": \"paper\", \"text\": \"Device Category - Mean Revenue\", \"y\": 0.6533333333333333, \"x\": 0.8555555555555556, \"font\": {\"size\": 16}, \"showarrow\": false}, {\"yanchor\": \"bottom\", \"xref\": \"paper\", \"xanchor\": \"center\", \"yref\": \"paper\", \"text\": \"Device OS - Count\", \"y\": 0.3066666666666667, \"x\": 0.14444444444444446, \"font\": {\"size\": 16}, \"showarrow\": false}, {\"yanchor\": \"bottom\", \"xref\": \"paper\", \"xanchor\": \"center\", \"yref\": \"paper\", \"text\": \"Device OS - Non-zero Revenue Count\", \"y\": 0.3066666666666667, \"x\": 0.5, \"font\": {\"size\": 16}, \"showarrow\": false}, {\"yanchor\": \"bottom\", \"xref\": \"paper\", \"xanchor\": \"center\", \"yref\": \"paper\", \"text\": \"Device OS - Mean Revenue\", \"y\": 0.3066666666666667, \"x\": 0.8555555555555556, \"font\": {\"size\": 16}, \"showarrow\": false}], \"xaxis9\": {\"domain\": [0.7111111111111111, 1.0], \"anchor\": \"y9\"}, \"xaxis8\": {\"domain\": [0.35555555555555557, 0.6444444444444445], \"anchor\": \"y8\"}, \"xaxis7\": {\"domain\": [0.0, 0.2888888888888889], \"anchor\": \"y7\"}, \"xaxis6\": {\"domain\": [0.7111111111111111, 1.0], \"anchor\": \"y6\"}, \"xaxis5\": {\"domain\": [0.35555555555555557, 0.6444444444444445], \"anchor\": \"y5\"}, \"xaxis4\": {\"domain\": [0.0, 0.2888888888888889], \"anchor\": \"y4\"}, \"xaxis3\": {\"domain\": [0.7111111111111111, 1.0], \"anchor\": \"y3\"}, \"xaxis2\": {\"domain\": [0.35555555555555557, 0.6444444444444445], \"anchor\": \"y2\"}}, {\"linkText\": \"Export to plot.ly\", \"showLink\": true})});</script>"
      ]
     },
     "execution_count": 0,
     "metadata": {},
     "output_type": "execute_result"
    }
   ],
   "source": [
    "def horizontal_bar_chart(cnt_srs, color):\n",
    "    trace = go.Bar(\n",
    "        y=cnt_srs.index[::-1],\n",
    "        x=cnt_srs.values[::-1],\n",
    "        showlegend=False,\n",
    "        orientation = 'h',\n",
    "        marker=dict(\n",
    "            color=color,\n",
    "        ),\n",
    "    )\n",
    "    return trace\n",
    "\n",
    "# Device Browser\n",
    "cnt_srs = train_df.groupby('device.browser')['totals.transactionRevenue'].agg(['size', 'count', 'mean'])\n",
    "cnt_srs.columns = [\"count\", \"count of non-zero revenue\", \"mean\"]\n",
    "cnt_srs = cnt_srs.sort_values(by=\"count\", ascending=False)\n",
    "trace1 = horizontal_bar_chart(cnt_srs[\"count\"].head(10), 'rgba(50, 171, 96, 0.6)')\n",
    "trace2 = horizontal_bar_chart(cnt_srs[\"count of non-zero revenue\"].head(10), 'rgba(50, 171, 96, 0.6)')\n",
    "trace3 = horizontal_bar_chart(cnt_srs[\"mean\"].head(10), 'rgba(50, 171, 96, 0.6)')\n",
    "\n",
    "# Device Category\n",
    "cnt_srs = train_df.groupby('device.deviceCategory')['totals.transactionRevenue'].agg(['size', 'count', 'mean'])\n",
    "cnt_srs.columns = [\"count\", \"count of non-zero revenue\", \"mean\"]\n",
    "cnt_srs = cnt_srs.sort_values(by=\"count\", ascending=False)\n",
    "trace4 = horizontal_bar_chart(cnt_srs[\"count\"].head(10), 'rgba(71, 58, 131, 0.8)')\n",
    "trace5 = horizontal_bar_chart(cnt_srs[\"count of non-zero revenue\"].head(10), 'rgba(71, 58, 131, 0.8)')\n",
    "trace6 = horizontal_bar_chart(cnt_srs[\"mean\"].head(10), 'rgba(71, 58, 131, 0.8)')\n",
    "\n",
    "# Operating system\n",
    "cnt_srs = train_df.groupby('device.operatingSystem')['totals.transactionRevenue'].agg(['size', 'count', 'mean'])\n",
    "cnt_srs.columns = [\"count\", \"count of non-zero revenue\", \"mean\"]\n",
    "cnt_srs = cnt_srs.sort_values(by=\"count\", ascending=False)\n",
    "trace7 = horizontal_bar_chart(cnt_srs[\"count\"].head(10), 'rgba(246, 78, 139, 0.6)')\n",
    "trace8 = horizontal_bar_chart(cnt_srs[\"count of non-zero revenue\"].head(10),'rgba(246, 78, 139, 0.6)')\n",
    "trace9 = horizontal_bar_chart(cnt_srs[\"mean\"].head(10),'rgba(246, 78, 139, 0.6)')\n",
    "\n",
    "# Creating two subplots\n",
    "fig = tools.make_subplots(rows=3, cols=3, vertical_spacing=0.04, \n",
    "                          subplot_titles=[\"Device Browser - Count\", \"Device Browser - Non-zero Revenue Count\", \"Device Browser - Mean Revenue\",\n",
    "                                          \"Device Category - Count\",  \"Device Category - Non-zero Revenue Count\", \"Device Category - Mean Revenue\", \n",
    "                                          \"Device OS - Count\", \"Device OS - Non-zero Revenue Count\", \"Device OS - Mean Revenue\"])\n",
    "\n",
    "fig.append_trace(trace1, 1, 1)\n",
    "fig.append_trace(trace2, 1, 2)\n",
    "fig.append_trace(trace3, 1, 3)\n",
    "fig.append_trace(trace4, 2, 1)\n",
    "fig.append_trace(trace5, 2, 2)\n",
    "fig.append_trace(trace6, 2, 3)\n",
    "fig.append_trace(trace7, 3, 1)\n",
    "fig.append_trace(trace8, 3, 2)\n",
    "fig.append_trace(trace9, 3, 3)\n",
    "\n",
    "fig['layout'].update(height=1200, width=1200, paper_bgcolor='rgb(233,233,233)', title=\"Device Plots\")\n",
    "py.iplot(fig, filename='device-plots')"
   ]
  }
 ],
 "metadata": {
  "kernelspec": {
   "display_name": "Python 2",
   "language": "python",
   "name": "python2"
  },
  "language_info": {
   "codemirror_mode": {
    "name": "ipython",
    "version": 2
   },
   "file_extension": ".py",
   "mimetype": "text/x-python",
   "name": "python",
   "nbconvert_exporter": "python",
   "pygments_lexer": "ipython2",
   "version": "2.7.6"
  }
 },
 "nbformat": 4,
 "nbformat_minor": 0
}
